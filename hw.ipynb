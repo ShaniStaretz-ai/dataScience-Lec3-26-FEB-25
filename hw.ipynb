{
 "cells": [
  {
   "cell_type": "code",
   "execution_count": 8,
   "id": "8780d09e-0329-432e-8db6-b6e8cd9eb019",
   "metadata": {},
   "outputs": [
    {
     "data": {
      "text/plain": [
       "array([ 1,  2,  3,  4,  5,  6,  7,  8,  9, 10, 11, 12, 13, 14, 15, 16])"
      ]
     },
     "metadata": {},
     "output_type": "display_data"
    },
    {
     "data": {
      "text/plain": [
       "array([[ 1,  2,  3,  4],\n",
       "       [ 5,  6,  7,  8],\n",
       "       [ 9, 10, 11, 12],\n",
       "       [13, 14, 15, 16]])"
      ]
     },
     "execution_count": 8,
     "metadata": {},
     "output_type": "execute_result"
    }
   ],
   "source": [
    "from IPython.display import display\n",
    "import numpy as np\n",
    "#1.\n",
    "arr1=np.arange(1,16+1)\n",
    "display(arr1)\n",
    "arr1.reshape(4,4)"
   ]
  },
  {
   "cell_type": "code",
   "execution_count": 20,
   "id": "46cd819e-f3a2-4663-818c-537044476e87",
   "metadata": {},
   "outputs": [
    {
     "data": {
      "text/plain": [
       "array([10, 15, 20, 25, 30, 35, 40, 45])"
      ]
     },
     "metadata": {},
     "output_type": "display_data"
    },
    {
     "data": {
      "text/plain": [
       "array([[10, 15, 20, 25],\n",
       "       [30, 35, 40, 45]])"
      ]
     },
     "execution_count": 20,
     "metadata": {},
     "output_type": "execute_result"
    }
   ],
   "source": [
    "#2.\n",
    "arr2=np.arange(10,50,5)\n",
    "display(arr2)\n",
    "arr2.reshape(2,4)"
   ]
  },
  {
   "cell_type": "code",
   "execution_count": 36,
   "id": "506eb241-c6ed-4ca5-b417-d5e200022989",
   "metadata": {},
   "outputs": [
    {
     "data": {
      "text/plain": [
       "array([[94, 90, 89],\n",
       "       [69, 17, 62],\n",
       "       [28, 50, 25]])"
      ]
     },
     "metadata": {},
     "output_type": "display_data"
    },
    {
     "name": "stdout",
     "output_type": "stream",
     "text": [
      "min: 17\n",
      "max: 94\n"
     ]
    }
   ],
   "source": [
    "#3. randint\n",
    "arr3=np.random.randint(1,100,(3,3))\n",
    "display(arr3)\n",
    "print(\"min:\",arr3.min())\n",
    "print(\"max:\",arr3.max())"
   ]
  },
  {
   "cell_type": "code",
   "execution_count": 58,
   "id": "daa1b955-619f-4243-a781-c2247bf31ab6",
   "metadata": {},
   "outputs": [
    {
     "data": {
      "text/plain": [
       "array([10,  4,  5, 19, 19,  4, 12,  2, 16, 19])"
      ]
     },
     "metadata": {},
     "output_type": "display_data"
    },
    {
     "name": "stdout",
     "output_type": "stream",
     "text": [
      "first 5: [10  4  5 19 19]\n",
      "even index: [10  5 19 12 16]\n",
      "reverse: [19 16  2 12  4 19 19  5  4 10]\n"
     ]
    }
   ],
   "source": [
    "#4.\n",
    "arr4=np.random.randint(0,20,10)\n",
    "display(arr4)\n",
    "print(\"first 5:\",arr4[0:5])\n",
    "print(\"even index:\",arr4[0:len(arr4):2])\n",
    "print(\"reverse:\",arr4[::-1])"
   ]
  },
  {
   "cell_type": "code",
   "execution_count": 74,
   "id": "84b7b141-7daa-43c3-97e5-8624df56d994",
   "metadata": {},
   "outputs": [
    {
     "data": {
      "text/plain": [
       "array([[41, 18, 38, 42, 44],\n",
       "       [24, 31, 27, 10, 19],\n",
       "       [18, 19, 27, 27,  1],\n",
       "       [38,  7, 46, 27, 45]])"
      ]
     },
     "metadata": {},
     "output_type": "display_data"
    },
    {
     "name": "stdout",
     "output_type": "stream",
     "text": [
      "2nd row: [24 31 27 10 19]\n",
      "4th column: [42 10 27 27]\n"
     ]
    }
   ],
   "source": [
    "#5.\n",
    "arr5=np.random.randint(1,50,(4,5))\n",
    "display(arr5)\n",
    "print(\"2nd row:\",arr5[1])\n",
    "print(\"4th column:\",arr5[ :,3])"
   ]
  },
  {
   "cell_type": "code",
   "execution_count": 86,
   "id": "44810c0c-93ee-4d25-9c28-bab81582dc63",
   "metadata": {},
   "outputs": [
    {
     "data": {
      "text/plain": [
       "array([ 0,  1,  2,  3,  4,  5,  6,  7,  8,  9, 10, 11, 12, 13, 14])"
      ]
     },
     "metadata": {},
     "output_type": "display_data"
    },
    {
     "data": {
      "text/plain": [
       "array([65, 15, 18, 23, 49, 93, 14, 50, 44, 20, 56,  0, 75, 89, 76])"
      ]
     },
     "metadata": {},
     "output_type": "display_data"
    },
    {
     "name": "stdout",
     "output_type": "stream",
     "text": [
      "index of max value: 5\n",
      "index of min value: 11\n"
     ]
    },
    {
     "data": {
      "text/plain": [
       "array([65, 15, 50, 20,  0, 75])"
      ]
     },
     "metadata": {},
     "output_type": "display_data"
    },
    {
     "data": {
      "text/plain": [
       "array([65, 93, 56,  0, 75, 89, 76])"
      ]
     },
     "metadata": {},
     "output_type": "display_data"
    }
   ],
   "source": [
    "arr6=np.random.randint(0,100,15)\n",
    "display(np.arange(0,15))\n",
    "display(arr6)\n",
    "print(\"index of max value:\",arr6.argmax())\n",
    "print(\"index of min value:\",arr6.argmin())\n",
    "np.save(\"15-nums.npy\",arr6)\n",
    "arr_5=arr6[arr6%5==0]\n",
    "display(arr_5)\n",
    "display(arr6[(arr6<10)|(arr6>50)])\n"
   ]
  },
  {
   "cell_type": "code",
   "execution_count": 164,
   "id": "93ff5a0d-7ccc-4a47-b963-4dad3c784e3e",
   "metadata": {},
   "outputs": [
    {
     "name": "stdout",
     "output_type": "stream",
     "text": [
      "max seed: 49\n",
      "max length: 8\n",
      "max array: [48 87 36  0 58 88 99 99 89  6 90 75 37 97 97]\n"
     ]
    }
   ],
   "source": [
    "max_len=None\n",
    "max_seed=10\n",
    "max_arr=np.zeros(15,dtype=int)\n",
    "for seed in range(10, 101):\n",
    "    np.r\n",
    "    arr7=np.random.randint(0,100,15)\n",
    "    l=len(arr7[arr7>80])\n",
    "    if max_len is None or l>max_len:\n",
    "        max_len=l\n",
    "        max_seed=seed\n",
    "        max_arr=arr7\n",
    "print(f\"max seed:\",max_seed)\n",
    "print(f\"max length:\",max_len)\n",
    "print(f\"max array:\",max_arr)"
   ]
  }
 ],
 "metadata": {
  "kernelspec": {
   "display_name": "Python [conda env:base] *",
   "language": "python",
   "name": "conda-base-py"
  },
  "language_info": {
   "codemirror_mode": {
    "name": "ipython",
    "version": 3
   },
   "file_extension": ".py",
   "mimetype": "text/x-python",
   "name": "python",
   "nbconvert_exporter": "python",
   "pygments_lexer": "ipython3",
   "version": "3.12.7"
  }
 },
 "nbformat": 4,
 "nbformat_minor": 5
}
